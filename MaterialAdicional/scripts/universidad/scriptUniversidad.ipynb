{
 "cells": [
  {
   "cell_type": "code",
   "execution_count": 3,
   "metadata": {},
   "outputs": [
    {
     "name": "stdout",
     "output_type": "stream",
     "text": [
      "Collecting pymysql\n",
      "  Downloading PyMySQL-1.0.2-py3-none-any.whl (43 kB)\n",
      "Installing collected packages: pymysql\n",
      "Successfully installed pymysql-1.0.2\n",
      "Note: you may need to restart the kernel to use updated packages.\n"
     ]
    }
   ],
   "source": [
    "pip install pymysql"
   ]
  },
  {
   "cell_type": "code",
   "execution_count": 58,
   "metadata": {},
   "outputs": [],
   "source": [
    "import pymysql\n",
    "import pandas as pd\n",
    "import numpy as np\n",
    "import seaborn as sns\n",
    "import scipy.stats as stats\n",
    "import matplotlib.pyplot as plt\n",
    "\n",
    "import pandas.io.sql\n",
    "import pyodbc\n",
    "\n",
    "import xlrd\n",
    "\n",
    "# Abre conexion con la base de datos\n",
    "conn = pymysql.connect(host='127.0.0.1',\n",
    "                             user='root',\n",
    "                             database='aps',\n",
    "                             charset='utf8mb4',\n",
    "                             cursorclass=pymysql.cursors.DictCursor)\n",
    "##################################################\n",
    "cursor = conn.cursor()\n",
    "# read data\n",
    "data = pd.read_excel('universidades.xlsx')\n",
    "# rename columns\n",
    "data = data.rename(columns={'nombre': 'Universidad',\n",
    "                            'provincia': 'Provincia de la sede',\n",
    "                            })\n",
    "data = data.drop(data.columns[[1,2,3,4]], axis='columns')\n",
    "# export\n",
    "data.to_excel('finaluniversidades.xlsx', index=False)\n",
    "\n",
    "# Open the workbook and define the worksheet\n",
    "book = xlrd.open_workbook(\"finaluniversidades.xlsx\")\n",
    "sheet = book.sheet_by_name(\"Sheet1\")\n",
    "\n",
    "\n",
    "\n",
    "for r in range(1, sheet.nrows):\n",
    "    nombre = sheet.cell(r,0).value\n",
    "    provincia = sheet.cell(r,1).value\n",
    "    \n",
    "    query = \"\"\"\n",
    "    INSERT INTO universidad (\n",
    "        nombre,\n",
    "        provincia\n",
    "    ) VALUES ('{0}', '{1}')\"\"\".format(nombre,provincia);\n",
    "\n",
    "\n",
    "    # Execute sql Query\n",
    "    cursor.execute(query)\n",
    "\n",
    "# Commit the transaction\n",
    "conn.commit()\n",
    "\n",
    "# Close the database connection\n",
    "conn.close()\n"
   ]
  },
  {
   "cell_type": "code",
   "execution_count": null,
   "metadata": {},
   "outputs": [],
   "source": []
  }
 ],
 "metadata": {
  "kernelspec": {
   "display_name": "Python 3",
   "language": "python",
   "name": "python3"
  },
  "language_info": {
   "codemirror_mode": {
    "name": "ipython",
    "version": 3
   },
   "file_extension": ".py",
   "mimetype": "text/x-python",
   "name": "python",
   "nbconvert_exporter": "python",
   "pygments_lexer": "ipython3",
   "version": "3.8.5"
  }
 },
 "nbformat": 4,
 "nbformat_minor": 4
}
